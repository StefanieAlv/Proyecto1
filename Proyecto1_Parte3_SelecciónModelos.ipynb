{
 "cells": [
  {
   "cell_type": "markdown",
   "metadata": {
    "id": "a9s2r2YlMLcD"
   },
   "source": [
    "## **Proyecto 1 - Parte 3 - Selección del modelo**"
   ]
  },
  {
   "cell_type": "markdown",
   "metadata": {
    "id": "WNE0aiPPMRO7"
   },
   "source": [
    "Stefanie M. Alvarez Pérez, 20002045"
   ]
  },
  {
   "cell_type": "code",
   "execution_count": 410,
   "metadata": {
    "executionInfo": {
     "elapsed": 207,
     "status": "ok",
     "timestamp": 1637561524946,
     "user": {
      "displayName": "Stefanie Michelle Alvarez Pérez",
      "photoUrl": "https://lh3.googleusercontent.com/a/default-user=s64",
      "userId": "02953494600527409521"
     },
     "user_tz": 360
    },
    "id": "kk232uMREvmw"
   },
   "outputs": [],
   "source": [
    "import pandas as pd\n",
    "import numpy as np\n",
    "\n",
    "import matplotlib.pyplot as plt\n",
    "\n",
    "from sklearn.linear_model import Lasso  #Regresión de lasso (Penaliza betas, más grande beta, mejor el modelo)\n",
    "from sklearn.feature_selection import SelectFromModel"
   ]
  },
  {
   "cell_type": "markdown",
   "metadata": {
    "id": "R03n_AQ3Evmw"
   },
   "source": [
    "### 3. Selección de Variables"
   ]
  },
  {
   "cell_type": "code",
   "execution_count": 411,
   "metadata": {
    "executionInfo": {
     "elapsed": 2330,
     "status": "ok",
     "timestamp": 1637561529339,
     "user": {
      "displayName": "Stefanie Michelle Alvarez Pérez",
      "photoUrl": "https://lh3.googleusercontent.com/a/default-user=s64",
      "userId": "02953494600527409521"
     },
     "user_tz": 360
    },
    "id": "2kJxOGayEvmy"
   },
   "outputs": [],
   "source": [
    "X_train = pd.read_csv(\"prep_Xtrain.csv\") #Importar la data ya pre-procesada\n",
    "X_test = pd.read_csv(\"prep_Xtest.csv\")"
   ]
  },
  {
   "cell_type": "code",
   "execution_count": 412,
   "metadata": {
    "colab": {
     "base_uri": "https://localhost:8080/",
     "height": 226
    },
    "executionInfo": {
     "elapsed": 12,
     "status": "ok",
     "timestamp": 1637561529343,
     "user": {
      "displayName": "Stefanie Michelle Alvarez Pérez",
      "photoUrl": "https://lh3.googleusercontent.com/a/default-user=s64",
      "userId": "02953494600527409521"
     },
     "user_tz": 360
    },
    "id": "j4ALCtYfEvmy",
    "outputId": "1e7ff0d2-2b95-4dbf-89d1-691192c6ba84"
   },
   "outputs": [
    {
     "data": {
      "text/html": [
       "<div>\n",
       "<style scoped>\n",
       "    .dataframe tbody tr th:only-of-type {\n",
       "        vertical-align: middle;\n",
       "    }\n",
       "\n",
       "    .dataframe tbody tr th {\n",
       "        vertical-align: top;\n",
       "    }\n",
       "\n",
       "    .dataframe thead th {\n",
       "        text-align: right;\n",
       "    }\n",
       "</style>\n",
       "<table border=\"1\" class=\"dataframe\">\n",
       "  <thead>\n",
       "    <tr style=\"text-align: right;\">\n",
       "      <th></th>\n",
       "      <th>hotel</th>\n",
       "      <th>is_canceled</th>\n",
       "      <th>lead_time</th>\n",
       "      <th>arrival_date_month</th>\n",
       "      <th>stays_in_weekend_nights</th>\n",
       "      <th>stays_in_week_nights</th>\n",
       "      <th>adults</th>\n",
       "      <th>children</th>\n",
       "      <th>babies</th>\n",
       "      <th>meal</th>\n",
       "      <th>...</th>\n",
       "      <th>previous_bookings_not_canceled</th>\n",
       "      <th>reserved_room_type</th>\n",
       "      <th>assigned_room_type</th>\n",
       "      <th>booking_changes</th>\n",
       "      <th>deposit_type</th>\n",
       "      <th>days_in_waiting_list</th>\n",
       "      <th>customer_type</th>\n",
       "      <th>required_car_parking_spaces</th>\n",
       "      <th>total_of_special_requests</th>\n",
       "      <th>reservation_status</th>\n",
       "    </tr>\n",
       "  </thead>\n",
       "  <tbody>\n",
       "    <tr>\n",
       "      <th>0</th>\n",
       "      <td>0.0</td>\n",
       "      <td>0.0</td>\n",
       "      <td>0.119403</td>\n",
       "      <td>0.636364</td>\n",
       "      <td>0.052632</td>\n",
       "      <td>1.0</td>\n",
       "      <td>0.036364</td>\n",
       "      <td>0.000000</td>\n",
       "      <td>0.0</td>\n",
       "      <td>0.00</td>\n",
       "      <td>...</td>\n",
       "      <td>0.0</td>\n",
       "      <td>0.000000</td>\n",
       "      <td>0.272727</td>\n",
       "      <td>0.0</td>\n",
       "      <td>0.0</td>\n",
       "      <td>0.0</td>\n",
       "      <td>0.666667</td>\n",
       "      <td>0.000</td>\n",
       "      <td>0.2</td>\n",
       "      <td>0.5</td>\n",
       "    </tr>\n",
       "    <tr>\n",
       "      <th>1</th>\n",
       "      <td>1.0</td>\n",
       "      <td>0.0</td>\n",
       "      <td>0.017639</td>\n",
       "      <td>0.090909</td>\n",
       "      <td>0.000000</td>\n",
       "      <td>1.0</td>\n",
       "      <td>0.036364</td>\n",
       "      <td>0.333333</td>\n",
       "      <td>0.0</td>\n",
       "      <td>0.25</td>\n",
       "      <td>...</td>\n",
       "      <td>0.0</td>\n",
       "      <td>0.111111</td>\n",
       "      <td>0.272727</td>\n",
       "      <td>0.0</td>\n",
       "      <td>0.0</td>\n",
       "      <td>0.0</td>\n",
       "      <td>0.666667</td>\n",
       "      <td>0.000</td>\n",
       "      <td>0.4</td>\n",
       "      <td>0.5</td>\n",
       "    </tr>\n",
       "    <tr>\n",
       "      <th>2</th>\n",
       "      <td>1.0</td>\n",
       "      <td>0.0</td>\n",
       "      <td>0.000000</td>\n",
       "      <td>0.272727</td>\n",
       "      <td>0.000000</td>\n",
       "      <td>1.0</td>\n",
       "      <td>0.018182</td>\n",
       "      <td>0.000000</td>\n",
       "      <td>0.0</td>\n",
       "      <td>0.00</td>\n",
       "      <td>...</td>\n",
       "      <td>1.0</td>\n",
       "      <td>0.000000</td>\n",
       "      <td>0.272727</td>\n",
       "      <td>0.0</td>\n",
       "      <td>0.0</td>\n",
       "      <td>0.0</td>\n",
       "      <td>0.666667</td>\n",
       "      <td>0.125</td>\n",
       "      <td>0.4</td>\n",
       "      <td>0.5</td>\n",
       "    </tr>\n",
       "    <tr>\n",
       "      <th>3</th>\n",
       "      <td>0.0</td>\n",
       "      <td>0.0</td>\n",
       "      <td>0.000000</td>\n",
       "      <td>0.636364</td>\n",
       "      <td>0.000000</td>\n",
       "      <td>1.0</td>\n",
       "      <td>0.036364</td>\n",
       "      <td>0.000000</td>\n",
       "      <td>0.0</td>\n",
       "      <td>0.00</td>\n",
       "      <td>...</td>\n",
       "      <td>0.0</td>\n",
       "      <td>0.000000</td>\n",
       "      <td>0.000000</td>\n",
       "      <td>1.0</td>\n",
       "      <td>0.0</td>\n",
       "      <td>0.0</td>\n",
       "      <td>0.666667</td>\n",
       "      <td>0.000</td>\n",
       "      <td>0.2</td>\n",
       "      <td>0.5</td>\n",
       "    </tr>\n",
       "    <tr>\n",
       "      <th>4</th>\n",
       "      <td>0.0</td>\n",
       "      <td>0.0</td>\n",
       "      <td>0.031208</td>\n",
       "      <td>0.363636</td>\n",
       "      <td>0.000000</td>\n",
       "      <td>1.0</td>\n",
       "      <td>0.036364</td>\n",
       "      <td>0.000000</td>\n",
       "      <td>0.0</td>\n",
       "      <td>0.00</td>\n",
       "      <td>...</td>\n",
       "      <td>0.0</td>\n",
       "      <td>0.000000</td>\n",
       "      <td>0.000000</td>\n",
       "      <td>0.0</td>\n",
       "      <td>0.0</td>\n",
       "      <td>0.0</td>\n",
       "      <td>0.666667</td>\n",
       "      <td>0.000</td>\n",
       "      <td>0.0</td>\n",
       "      <td>0.5</td>\n",
       "    </tr>\n",
       "  </tbody>\n",
       "</table>\n",
       "<p>5 rows × 24 columns</p>\n",
       "</div>"
      ],
      "text/plain": [
       "   hotel  is_canceled  lead_time  arrival_date_month  stays_in_weekend_nights  \\\n",
       "0    0.0          0.0   0.119403            0.636364                 0.052632   \n",
       "1    1.0          0.0   0.017639            0.090909                 0.000000   \n",
       "2    1.0          0.0   0.000000            0.272727                 0.000000   \n",
       "3    0.0          0.0   0.000000            0.636364                 0.000000   \n",
       "4    0.0          0.0   0.031208            0.363636                 0.000000   \n",
       "\n",
       "   stays_in_week_nights    adults  children  babies  meal  ...  \\\n",
       "0                   1.0  0.036364  0.000000     0.0  0.00  ...   \n",
       "1                   1.0  0.036364  0.333333     0.0  0.25  ...   \n",
       "2                   1.0  0.018182  0.000000     0.0  0.00  ...   \n",
       "3                   1.0  0.036364  0.000000     0.0  0.00  ...   \n",
       "4                   1.0  0.036364  0.000000     0.0  0.00  ...   \n",
       "\n",
       "   previous_bookings_not_canceled  reserved_room_type  assigned_room_type  \\\n",
       "0                             0.0            0.000000            0.272727   \n",
       "1                             0.0            0.111111            0.272727   \n",
       "2                             1.0            0.000000            0.272727   \n",
       "3                             0.0            0.000000            0.000000   \n",
       "4                             0.0            0.000000            0.000000   \n",
       "\n",
       "   booking_changes  deposit_type  days_in_waiting_list  customer_type  \\\n",
       "0              0.0           0.0                   0.0       0.666667   \n",
       "1              0.0           0.0                   0.0       0.666667   \n",
       "2              0.0           0.0                   0.0       0.666667   \n",
       "3              1.0           0.0                   0.0       0.666667   \n",
       "4              0.0           0.0                   0.0       0.666667   \n",
       "\n",
       "   required_car_parking_spaces  total_of_special_requests  reservation_status  \n",
       "0                        0.000                        0.2                 0.5  \n",
       "1                        0.000                        0.4                 0.5  \n",
       "2                        0.125                        0.4                 0.5  \n",
       "3                        0.000                        0.2                 0.5  \n",
       "4                        0.000                        0.0                 0.5  \n",
       "\n",
       "[5 rows x 24 columns]"
      ]
     },
     "execution_count": 412,
     "metadata": {},
     "output_type": "execute_result"
    }
   ],
   "source": [
    "X_train.head()"
   ]
  },
  {
   "cell_type": "code",
   "execution_count": 413,
   "metadata": {},
   "outputs": [],
   "source": [
    "#np.unique(X_test['hotel'])\n",
    "#np.unique(X_test['is_canceled'])\n",
    "#np.unique(X_test['lead_time'])\n",
    "#np.unique(X_test['arrival_date_month'])\n",
    "#np.unique(X_test['stays_in_weekend_nights'])\n",
    "#np.unique(X_test['stays_in_week_nights'])\n",
    "#np.unique(X_test['adults'])\n",
    "#np.unique(X_test['children'])\n",
    "#np.unique(X_test['babies'])\n",
    "#np.unique(X_test['meal'])\n",
    "#np.unique(X_test['market_segment'])\n",
    "#np.unique(X_test['distribution_channel'])\n",
    "#np.unique(X_test['is_repeated_guest'])\n",
    "#np.unique(X_test['previous_cancellations'])\n",
    "#np.unique(X_test['previous_bookings_not_canceled'])\n",
    "#np.unique(X_test['reserved_room_type'])\n",
    "#np.unique(X_test['assigned_room_type'])\n",
    "#np.unique(X_test['booking_changes'])\n",
    "#np.unique(X_test['deposit_type'])\n",
    "#np.unique(X_test['days_in_waiting_list'])\n",
    "#np.unique(X_test['customer_type'])\n",
    "#np.unique(X_test['required_car_parking_spaces'])\n",
    "#np.unique(X_test['total_of_special_requests'])\n",
    "#np.unique(X_test['reservation_status'])"
   ]
  },
  {
   "cell_type": "code",
   "execution_count": 414,
   "metadata": {},
   "outputs": [
    {
     "data": {
      "text/plain": [
       "array([  0.  ,   0.26,   0.5 , ..., 109.96, 109.98, 110.  ])"
      ]
     },
     "execution_count": 414,
     "metadata": {},
     "output_type": "execute_result"
    }
   ],
   "source": [
    "np.unique(y_train['adr'])"
   ]
  },
  {
   "cell_type": "code",
   "execution_count": 415,
   "metadata": {},
   "outputs": [
    {
     "data": {
      "text/plain": [
       "hotel                             float64\n",
       "is_canceled                       float64\n",
       "lead_time                         float64\n",
       "arrival_date_month                float64\n",
       "stays_in_weekend_nights           float64\n",
       "stays_in_week_nights              float64\n",
       "adults                            float64\n",
       "children                          float64\n",
       "babies                            float64\n",
       "meal                              float64\n",
       "market_segment                    float64\n",
       "distribution_channel              float64\n",
       "is_repeated_guest                 float64\n",
       "previous_cancellations            float64\n",
       "previous_bookings_not_canceled    float64\n",
       "reserved_room_type                float64\n",
       "assigned_room_type                float64\n",
       "booking_changes                   float64\n",
       "deposit_type                      float64\n",
       "days_in_waiting_list              float64\n",
       "customer_type                     float64\n",
       "required_car_parking_spaces       float64\n",
       "total_of_special_requests         float64\n",
       "reservation_status                float64\n",
       "dtype: object"
      ]
     },
     "execution_count": 415,
     "metadata": {},
     "output_type": "execute_result"
    }
   ],
   "source": [
    "X_test.dtypes"
   ]
  },
  {
   "cell_type": "code",
   "execution_count": 416,
   "metadata": {
    "colab": {
     "base_uri": "https://localhost:8080/",
     "height": 206
    },
    "executionInfo": {
     "elapsed": 2181,
     "status": "ok",
     "timestamp": 1637561533389,
     "user": {
      "displayName": "Stefanie Michelle Alvarez Pérez",
      "photoUrl": "https://lh3.googleusercontent.com/a/default-user=s64",
      "userId": "02953494600527409521"
     },
     "user_tz": 360
    },
    "id": "VRc7N27vEvmy",
    "outputId": "378851a6-d39c-4545-8792-3251afb34db5"
   },
   "outputs": [
    {
     "data": {
      "text/html": [
       "<div>\n",
       "<style scoped>\n",
       "    .dataframe tbody tr th:only-of-type {\n",
       "        vertical-align: middle;\n",
       "    }\n",
       "\n",
       "    .dataframe tbody tr th {\n",
       "        vertical-align: top;\n",
       "    }\n",
       "\n",
       "    .dataframe thead th {\n",
       "        text-align: right;\n",
       "    }\n",
       "</style>\n",
       "<table border=\"1\" class=\"dataframe\">\n",
       "  <thead>\n",
       "    <tr style=\"text-align: right;\">\n",
       "      <th></th>\n",
       "      <th>adr</th>\n",
       "    </tr>\n",
       "  </thead>\n",
       "  <tbody>\n",
       "    <tr>\n",
       "      <th>0</th>\n",
       "      <td>111.35</td>\n",
       "    </tr>\n",
       "    <tr>\n",
       "      <th>1</th>\n",
       "      <td>108.00</td>\n",
       "    </tr>\n",
       "    <tr>\n",
       "      <th>2</th>\n",
       "      <td>80.00</td>\n",
       "    </tr>\n",
       "    <tr>\n",
       "      <th>3</th>\n",
       "      <td>30.00</td>\n",
       "    </tr>\n",
       "    <tr>\n",
       "      <th>4</th>\n",
       "      <td>145.00</td>\n",
       "    </tr>\n",
       "  </tbody>\n",
       "</table>\n",
       "</div>"
      ],
      "text/plain": [
       "      adr\n",
       "0  111.35\n",
       "1  108.00\n",
       "2   80.00\n",
       "3   30.00\n",
       "4  145.00"
      ]
     },
     "execution_count": 416,
     "metadata": {},
     "output_type": "execute_result"
    }
   ],
   "source": [
    "y_train = pd.read_csv(\"prep_ytrain.csv\")\n",
    "y_test = pd.read_csv(\"prep_ytest.csv\")\n",
    "\n",
    "y_test.head()"
   ]
  },
  {
   "cell_type": "markdown",
   "metadata": {},
   "source": [
    "Quitar los valores negativos en y_train"
   ]
  },
  {
   "cell_type": "code",
   "execution_count": 417,
   "metadata": {},
   "outputs": [
    {
     "data": {
      "text/plain": [
       "array([-6.38e+00,  0.00e+00,  2.60e-01, ...,  5.08e+02,  5.10e+02,\n",
       "        5.40e+03])"
      ]
     },
     "execution_count": 417,
     "metadata": {},
     "output_type": "execute_result"
    }
   ],
   "source": [
    "np.unique(y_train)"
   ]
  },
  {
   "cell_type": "code",
   "execution_count": 418,
   "metadata": {},
   "outputs": [],
   "source": [
    "y_train = np.maximum(y_train, 0.0)\n",
    "y_test = np.maximum(y_test, 0.0)"
   ]
  },
  {
   "cell_type": "code",
   "execution_count": 419,
   "metadata": {},
   "outputs": [],
   "source": [
    "y_train = np.minimum(y_train, 110)\n",
    "y_test = np.minimum(y_test, 110)"
   ]
  },
  {
   "cell_type": "code",
   "execution_count": 420,
   "metadata": {},
   "outputs": [
    {
     "data": {
      "text/plain": [
       "adr    0.0\n",
       "dtype: float64"
      ]
     },
     "execution_count": 420,
     "metadata": {},
     "output_type": "execute_result"
    }
   ],
   "source": [
    "np.amin(y_train)"
   ]
  },
  {
   "cell_type": "code",
   "execution_count": 421,
   "metadata": {},
   "outputs": [
    {
     "data": {
      "text/plain": [
       "adr    110.0\n",
       "dtype: float64"
      ]
     },
     "execution_count": 421,
     "metadata": {},
     "output_type": "execute_result"
    }
   ],
   "source": [
    "np.amax(y_train)"
   ]
  },
  {
   "cell_type": "code",
   "execution_count": 422,
   "metadata": {
    "colab": {
     "base_uri": "https://localhost:8080/",
     "height": 345
    },
    "executionInfo": {
     "elapsed": 250,
     "status": "error",
     "timestamp": 1637561534558,
     "user": {
      "displayName": "Stefanie Michelle Alvarez Pérez",
      "photoUrl": "https://lh3.googleusercontent.com/a/default-user=s64",
      "userId": "02953494600527409521"
     },
     "user_tz": 360
    },
    "id": "b2oZ1g4sEvmz",
    "outputId": "a9e2973b-3697-44d6-efd3-bf384872bf31"
   },
   "outputs": [
    {
     "data": {
      "text/plain": [
       "SelectFromModel(estimator=Lasso(alpha=0.001, random_state=0))"
      ]
     },
     "execution_count": 422,
     "metadata": {},
     "output_type": "execute_result"
    }
   ],
   "source": [
    "#objeto selector de variables\n",
    "#Con Lasso introducimos alpha para penalizarlo a cuanto debería valer Beta\n",
    "\n",
    "sel_ = SelectFromModel(Lasso(alpha=0.001, random_state=0))\n",
    "\n",
    "sel_.fit(X_train, y_train)"
   ]
  },
  {
   "cell_type": "code",
   "execution_count": 423,
   "metadata": {
    "id": "SCqR1jM3Evmz",
    "outputId": "2bc0da5e-7fb5-4b43-cba8-17f58ed37121"
   },
   "outputs": [
    {
     "data": {
      "text/plain": [
       "24"
      ]
     },
     "execution_count": 423,
     "metadata": {},
     "output_type": "execute_result"
    }
   ],
   "source": [
    "sel_.get_support().sum() #Vector que devuelve cuántas variables quedan al final"
   ]
  },
  {
   "cell_type": "code",
   "execution_count": 424,
   "metadata": {
    "id": "_JUPMlIJEvmz",
    "outputId": "cb8a3c61-79ab-4892-bc01-f7f77b6de196"
   },
   "outputs": [
    {
     "data": {
      "text/plain": [
       "array([ True,  True,  True,  True,  True,  True,  True,  True,  True,\n",
       "        True,  True,  True,  True,  True,  True,  True,  True,  True,\n",
       "        True,  True,  True,  True,  True,  True])"
      ]
     },
     "execution_count": 424,
     "metadata": {},
     "output_type": "execute_result"
    }
   ],
   "source": [
    "sel_.get_support() #Con cuáles sí me quedé, después de la penalización"
   ]
  },
  {
   "cell_type": "code",
   "execution_count": 425,
   "metadata": {
    "id": "lMA-kTudEvmz"
   },
   "outputs": [],
   "source": [
    "selected_features = X_train.columns[(sel_.get_support())]"
   ]
  },
  {
   "cell_type": "code",
   "execution_count": 426,
   "metadata": {
    "id": "Y4CBHEMzEvm0",
    "outputId": "d9641556-0933-4573-dc38-2d7061c818c5"
   },
   "outputs": [
    {
     "data": {
      "text/plain": [
       "Index(['hotel', 'is_canceled', 'lead_time', 'arrival_date_month',\n",
       "       'stays_in_weekend_nights', 'stays_in_week_nights', 'adults', 'children',\n",
       "       'babies', 'meal', 'market_segment', 'distribution_channel',\n",
       "       'is_repeated_guest', 'previous_cancellations',\n",
       "       'previous_bookings_not_canceled', 'reserved_room_type',\n",
       "       'assigned_room_type', 'booking_changes', 'deposit_type',\n",
       "       'days_in_waiting_list', 'customer_type', 'required_car_parking_spaces',\n",
       "       'total_of_special_requests', 'reservation_status'],\n",
       "      dtype='object')"
      ]
     },
     "execution_count": 426,
     "metadata": {},
     "output_type": "execute_result"
    }
   ],
   "source": [
    "selected_features #Obtener los nombres de las variables que sí tenemos que usar"
   ]
  },
  {
   "cell_type": "code",
   "execution_count": 427,
   "metadata": {
    "id": "r-468mwUEvm0"
   },
   "outputs": [],
   "source": [
    "#Generar un CSV con las variables a usar\n",
    "pd.Series(selected_features).to_csv('selected_features.csv', index=False)"
   ]
  },
  {
   "cell_type": "markdown",
   "metadata": {
    "id": "LW2JalZsEvm0"
   },
   "source": [
    "### 4. Entrenamiento del Modelo"
   ]
  },
  {
   "cell_type": "code",
   "execution_count": 428,
   "metadata": {
    "id": "_c8s6T_IEvm0"
   },
   "outputs": [],
   "source": [
    "#Seleccionar solo las variables filtradas anteriormente\n",
    "X_train = X_train[selected_features]\n",
    "X_test = X_test[selected_features]"
   ]
  },
  {
   "cell_type": "code",
   "execution_count": 429,
   "metadata": {
    "id": "-SUFmaPVEvm0",
    "outputId": "49c0bca4-86f0-4429-92da-62683d4ff347"
   },
   "outputs": [
    {
     "data": {
      "text/plain": [
       "Lasso(alpha=0.001, random_state=2022)"
      ]
     },
     "execution_count": 429,
     "metadata": {},
     "output_type": "execute_result"
    }
   ],
   "source": [
    "#AQUI VA EL MODELO\n",
    "linear_model = Lasso(alpha=0.001, random_state=2022)\n",
    "\n",
    "linear_model.fit(X_train, y_train)"
   ]
  },
  {
   "cell_type": "markdown",
   "metadata": {
    "id": "9NOfgGkHEvm1"
   },
   "source": [
    "#### Predicciones"
   ]
  },
  {
   "cell_type": "code",
   "execution_count": 430,
   "metadata": {
    "id": "r2bdW4tSEvm1"
   },
   "outputs": [],
   "source": [
    "from sklearn.metrics import mean_squared_error, r2_score"
   ]
  },
  {
   "cell_type": "code",
   "execution_count": 431,
   "metadata": {
    "id": "e-fJZVoOEvm1"
   },
   "outputs": [],
   "source": [
    "preds_train = linear_model.predict(X_train)"
   ]
  },
  {
   "cell_type": "code",
   "execution_count": 432,
   "metadata": {},
   "outputs": [],
   "source": [
    "X_train = X_train.drop(['stays_in_weekend_nights'], axis=1)"
   ]
  },
  {
   "cell_type": "code",
   "execution_count": 433,
   "metadata": {
    "id": "J9T3j3-4Evm1",
    "outputId": "b18a0422-db44-4c06-fb42-e9f056a58d86"
   },
   "outputs": [
    {
     "name": "stdout",
     "output_type": "stream",
     "text": [
      "MSE de Entrenamiento: 2.1994840636616736e+273\n",
      "RMSE de Entrenamiento: 4.689865737589589e+136\n",
      "R2 de Entrenamiento: -2.734335697692308e+178\n"
     ]
    }
   ],
   "source": [
    "#Resultados del Train\n",
    "print(\"MSE de Entrenamiento: {}\".format(mean_squared_error(np.exp(y_train), np.exp(preds_train))))\n",
    "\n",
    "print(\"RMSE de Entrenamiento: {}\".format(mean_squared_error(np.exp(y_train), \n",
    "                                                           np.exp(preds_train), squared=False)))\n",
    "\n",
    "print(\"R2 de Entrenamiento: {}\".format(r2_score(np.exp(y_train), np.exp(preds_train))))"
   ]
  },
  {
   "cell_type": "code",
   "execution_count": 434,
   "metadata": {
    "id": "PUruAgipEvm1"
   },
   "outputs": [],
   "source": [
    "preds_test = linear_model.predict(X_test)"
   ]
  },
  {
   "cell_type": "code",
   "execution_count": 435,
   "metadata": {
    "id": "OWh8VnGpEvm2",
    "outputId": "0b233673-feff-4875-aad9-9b7a2dbb1cfa"
   },
   "outputs": [
    {
     "name": "stdout",
     "output_type": "stream",
     "text": [
      "MSE de Entrenamiento: 2.1907287146025675e+158\n",
      "RMSE de Entrenamiento: 1.4801110480644916e+79\n",
      "R2 de Entrenamiento: -2.7362897892238867e+63\n"
     ]
    }
   ],
   "source": [
    "#Resultados del Test\n",
    "print(\"MSE de Entrenamiento: {}\".format(mean_squared_error(np.exp(y_test), np.exp(preds_test))))\n",
    "\n",
    "print(\"RMSE de Entrenamiento: {}\".format(mean_squared_error(np.exp(y_test), \n",
    "                                                           np.exp(preds_test), squared=False)))\n",
    "\n",
    "print(\"R2 de Entrenamiento: {}\".format(r2_score(np.exp(y_test), np.exp(preds_test))))\n",
    "\n",
    "#Como el RMSE es más pequeño para test que para train, quiere decir que es mejor test para predecir"
   ]
  },
  {
   "cell_type": "code",
   "execution_count": 436,
   "metadata": {
    "id": "T4qt8jvFEvm2",
    "outputId": "74007984-1e37-4320-ca63-4d41a554335d"
   },
   "outputs": [
    {
     "data": {
      "image/png": "[encoded data removed]",
      "text/plain": [
       "<Figure size 432x288 with 1 Axes>"
      ]
     },
     "metadata": {
      "needs_background": "light"
     },
     "output_type": "display_data"
    }
   ],
   "source": [
    "#Comparar en una gráfica de puntos el y_test (Valor real) vs preds_test (la predicción)\n",
    "#Si las predicciones fueran perfectas, sería una línea completamente recta.\n",
    "\n",
    "plt.scatter(y_test, preds_test)\n",
    "plt.xlabel(\"Valor\")\n",
    "plt.ylabel(\"Average Daily Rate\")\n",
    "plt.title(\"Lasso Modelo\")\n",
    "plt.show()"
   ]
  },
  {
   "cell_type": "code",
   "execution_count": 437,
   "metadata": {
    "id": "bk9aYGS1Evm2"
   },
   "outputs": [],
   "source": [
    "#Importancia del valor lineal (qué tan importante es cada variable --> Solo funciona con Lasso)\n",
    "importance = pd.Series(np.abs(linear_model.coef_.ravel()))\n",
    "importance.index = selected_features #Eje X, el nombre de la variable\n",
    "importance.sort_values(inplace=True, ascending=False) #Eje Y (valores por variable para el coef. de Lasso)"
   ]
  },
  {
   "cell_type": "code",
   "execution_count": 438,
   "metadata": {
    "id": "HptzJNpREvm2",
    "outputId": "b494bbda-d723-4bfc-ae9c-fcdf218a6d60"
   },
   "outputs": [
    {
     "data": {
      "image/png": "[encoded data removed]",
      "text/plain": [
       "<Figure size 1296x432 with 1 Axes>"
      ]
     },
     "metadata": {
      "needs_background": "light"
     },
     "output_type": "display_data"
    }
   ],
   "source": [
    "importance.plot.bar(figsize=(18, 6))\n",
    "plt.ylabel(\"Coeficiente de Lasso\")\n",
    "plt.xlabel(\"Nombre de la Variable\")\n",
    "plt.show()"
   ]
  },
  {
   "cell_type": "code",
   "execution_count": 439,
   "metadata": {
    "id": "-2kl5rryEvm3"
   },
   "outputs": [],
   "source": [
    "# Exportar el modelo como .joblib\n",
    "import joblib"
   ]
  },
  {
   "cell_type": "code",
   "execution_count": 440,
   "metadata": {
    "id": "HQlQBL8EEvm3",
    "outputId": "2cd38c8e-1eec-4a4e-acf0-635b137a653a"
   },
   "outputs": [
    {
     "data": {
      "text/plain": [
       "['lasso_reg.joblib']"
      ]
     },
     "execution_count": 440,
     "metadata": {},
     "output_type": "execute_result"
    }
   ],
   "source": [
    "joblib.dump(linear_model, 'lasso_reg.joblib')"
   ]
  },
  {
   "cell_type": "code",
   "execution_count": null,
   "metadata": {},
   "outputs": [],
   "source": []
  }
 ],
 "metadata": {
  "colab": {
   "collapsed_sections": [],
   "name": "Proyecto1_Parte3_20002045.ipynb",
   "provenance": []
  },
  "kernelspec": {
   "display_name": "Python 3 (ipykernel)",
   "language": "python",
   "name": "python3"
  },
  "language_info": {
   "codemirror_mode": {
    "name": "ipython",
    "version": 3
   },
   "file_extension": ".py",
   "mimetype": "text/x-python",
   "name": "python",
   "nbconvert_exporter": "python",
   "pygments_lexer": "ipython3",
   "version": "3.9.7"
  }
 },
 "nbformat": 4,
 "nbformat_minor": 4
}
